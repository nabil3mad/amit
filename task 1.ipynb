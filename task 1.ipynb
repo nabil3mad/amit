{
 "cells": [
  {
   "cell_type": "code",
   "execution_count": 4,
   "id": "7b6a1f80",
   "metadata": {},
   "outputs": [
    {
     "name": "stdout",
     "output_type": "stream",
     "text": [
      "G = 5\n",
      "ME = 6\n",
      "MM = 8\n",
      "R = 9\n",
      "result =  2.9629629629629624e+19 \n"
     ]
    }
   ],
   "source": [
    "G = float(input(\"G = \"))\n",
    "ME = float(input(\"ME = \"))\n",
    "MM = float(input(\"MM = \"))\n",
    "R = float(input(\"R = \"))\n",
    "\n",
    "G = G*(10**-11)\n",
    "ME = ME*(10**24)\n",
    "MM = MM*(10**22)\n",
    "R = R*(10**8)\n",
    "\n",
    "Fg = (G*ME*MM)/(R**2)\n",
    "\n",
    "print(\"result =  {} \" .format(Fg))\n",
    "\n"
   ]
  },
  {
   "cell_type": "code",
   "execution_count": null,
   "id": "6f8f7a1c",
   "metadata": {},
   "outputs": [],
   "source": []
  }
 ],
 "metadata": {
  "kernelspec": {
   "display_name": "Python 3 (ipykernel)",
   "language": "python",
   "name": "python3"
  },
  "language_info": {
   "codemirror_mode": {
    "name": "ipython",
    "version": 3
   },
   "file_extension": ".py",
   "mimetype": "text/x-python",
   "name": "python",
   "nbconvert_exporter": "python",
   "pygments_lexer": "ipython3",
   "version": "3.10.9"
  }
 },
 "nbformat": 4,
 "nbformat_minor": 5
}
